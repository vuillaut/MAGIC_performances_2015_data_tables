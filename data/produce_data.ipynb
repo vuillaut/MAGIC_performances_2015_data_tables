{
 "cells": [
  {
   "cell_type": "code",
   "execution_count": 1,
   "id": "bf38a8b3-2ea6-47f7-8247-572178a9c3cd",
   "metadata": {
    "tags": []
   },
   "outputs": [],
   "source": [
    "import tabula\n",
    "import numpy as np\n",
    "import pandas as pd\n",
    "from astropy.table import QTable\n",
    "import matplotlib.pyplot as plt\n",
    "import astropy.units as u\n",
    "from astropy.visualization import quantity_support\n",
    "from astropy.io.ascii import write\n",
    "from copy import deepcopy"
   ]
  },
  {
   "cell_type": "markdown",
   "id": "532e5dff-7b52-4b2d-ac4b-9b1333ff6ed7",
   "metadata": {},
   "source": [
    "# Download PDF"
   ]
  },
  {
   "cell_type": "code",
   "execution_count": 2,
   "id": "08bec0aa-1612-4747-abc4-624b14f48c30",
   "metadata": {
    "tags": []
   },
   "outputs": [],
   "source": [
    "import requests\n",
    "\n",
    "url = \"https://arxiv.org/pdf/1409.5594.pdf\"\n",
    "filename = url.split('/')[-1]\n",
    "response = requests.get(url)\n",
    "\n",
    "with open(filename, \"wb\") as f:\n",
    "    f.write(response.content)\n"
   ]
  },
  {
   "cell_type": "markdown",
   "id": "a3552ae2-920e-4dee-a982-4de0ecd83491",
   "metadata": {},
   "source": [
    "# Read tables from PDF"
   ]
  },
  {
   "cell_type": "code",
   "execution_count": 3,
   "id": "18d3ea8f-2293-4c35-8241-fb745511dcaa",
   "metadata": {
    "tags": []
   },
   "outputs": [],
   "source": [
    "tables = tabula.read_pdf(\"1409.5594.pdf\", pages=21)"
   ]
  },
  {
   "cell_type": "markdown",
   "id": "02c5e1a3-dc2a-4421-a648-dc4f02bd3413",
   "metadata": {},
   "source": [
    "# Process tables"
   ]
  },
  {
   "cell_type": "code",
   "execution_count": 4,
   "id": "b37d5f77-b8cd-4ee8-a71b-b5230b86c617",
   "metadata": {
    "tags": []
   },
   "outputs": [],
   "source": [
    "def split_err_cols(df):\n",
    "    \"\"\"\n",
    "    inplace\n",
    "    \"\"\"\n",
    "    for col in df.columns:\n",
    "        if df[col].dtype == 'object' and df[col].str.contains(' ± ').any():\n",
    "            df[col] = df[col].str.replace('−', '-')\n",
    "            df[[col, f'{col}_err']] = df[col].str.split(' ± ', expand=True)\n",
    "            df[col] = pd.to_numeric(df[col])\n",
    "            df[f'{col}_err'] = pd.to_numeric(df[f'{col}_err'])\n",
    "            \n",
    "def split_err_cols_asym(df):\n",
    "    \"\"\"\n",
    "    inplace\n",
    "    \"\"\"\n",
    "    for col in df.columns:\n",
    "        if df[col].dtype == 'object' and df[col].str.contains('\\+').any():\n",
    "            df[col] = df[col].str.replace('−', '-')\n",
    "            df[[col, f'{col}_err_max']] = df[col].str.split('+', expand=True)\n",
    "            df[[f'{col}_err_max', f'{col}_err_min']] = df[f'{col}_err_max'].str.split('-', expand=True)\n",
    "            df[col] = pd.to_numeric(df[col])\n",
    "            df[f'{col}_err_min'] = pd.to_numeric(df[f'{col}_err_min'])\n",
    "            df[f'{col}_err_max'] = pd.to_numeric(df[f'{col}_err_max'])\n",
    "\n",
    "            \n",
    "def split_column(df, col_name):\n",
    "    # Split the column into two\n",
    "    dfs = df[col_name].str.split('-', expand=True)\n",
    "    df1 = pd.to_numeric(dfs[0])\n",
    "    df2 = pd.to_numeric(dfs[1])\n",
    "    \n",
    "    # Get the position of the original column\n",
    "    col_index = df.columns.get_loc(col_name)\n",
    "\n",
    "    # Drop the original column\n",
    "    df = df.drop(columns=col_name)\n",
    "\n",
    "    # Insert the new columns at the same position\n",
    "    df.insert(col_index, f'{col_name}_max', df2)\n",
    "    df.insert(col_index, f'{col_name}_min', df1)\n",
    "    \n",
    "    return df\n",
    "\n",
    "\n",
    "\n",
    "def remove_units_labels(df):\n",
    "    df.columns = df.columns.str.replace(r'\\[.*?\\]', '', regex=True)\n",
    "    return df\n",
    "\n",
    "def remove_spaces_from_labels(df):\n",
    "    df.columns = df.columns.str.strip()\n",
    "    return df\n"
   ]
  },
  {
   "cell_type": "markdown",
   "id": "250ecef4-b50a-4fd9-a040-16e95371df95",
   "metadata": {},
   "source": [
    "### Table A2"
   ]
  },
  {
   "cell_type": "code",
   "execution_count": 5,
   "id": "6765129d-23e0-4242-82fd-b6c11cd27a30",
   "metadata": {
    "tags": []
   },
   "outputs": [
    {
     "data": {
      "text/html": [
       "<div><i>QTable length=13</i>\n",
       "<table id=\"table140406820282080\" class=\"table-striped table-bordered table-condensed\">\n",
       "<thead><tr><th>E_min</th><th>E_max</th><th>bias</th><th>σ</th><th>RMS</th><th>bias_err</th><th>σ_err</th><th>RMS_err</th></tr></thead>\n",
       "<thead><tr><th>GeV</th><th>GeV</th><th></th><th></th><th></th><th></th><th></th><th></th></tr></thead>\n",
       "<thead><tr><th>float64</th><th>float64</th><th>float64</th><th>float64</th><th>float64</th><th>float64</th><th>float64</th><th>float64</th></tr></thead>\n",
       "<tr><td>47.0</td><td>75.0</td><td>0.2460</td><td>0.2180</td><td>0.2250</td><td>0.0090</td><td>0.0110</td><td>0.0040</td></tr>\n",
       "<tr><td>75.0</td><td>119.0</td><td>0.0710</td><td>0.1980</td><td>0.2090</td><td>0.0040</td><td>0.0050</td><td>0.0020</td></tr>\n",
       "<tr><td>119.0</td><td>189.0</td><td>-0.0010</td><td>0.1800</td><td>0.2130</td><td>0.0030</td><td>0.0030</td><td>0.0020</td></tr>\n",
       "<tr><td>189.0</td><td>299.0</td><td>-0.0150</td><td>0.1680</td><td>0.2049</td><td>0.0030</td><td>0.0030</td><td>0.0018</td></tr>\n",
       "<tr><td>299.0</td><td>475.0</td><td>-0.0220</td><td>0.1550</td><td>0.2020</td><td>0.0020</td><td>0.0020</td><td>0.0017</td></tr>\n",
       "<tr><td>475.0</td><td>753.0</td><td>-0.0210</td><td>0.1480</td><td>0.2012</td><td>0.0020</td><td>0.0020</td><td>0.0018</td></tr>\n",
       "<tr><td>753.0</td><td>1194.0</td><td>-0.0140</td><td>0.1540</td><td>0.2130</td><td>0.0020</td><td>0.0020</td><td>0.0020</td></tr>\n",
       "<tr><td>1194.0</td><td>1892.0</td><td>-0.0180</td><td>0.1610</td><td>0.2130</td><td>0.0030</td><td>0.0030</td><td>0.0020</td></tr>\n",
       "<tr><td>1892.0</td><td>2999.0</td><td>-0.0230</td><td>0.1810</td><td>0.2320</td><td>0.0040</td><td>0.0040</td><td>0.0030</td></tr>\n",
       "<tr><td>2999.0</td><td>4754.0</td><td>-0.0170</td><td>0.1960</td><td>0.2510</td><td>0.0040</td><td>0.0050</td><td>0.0030</td></tr>\n",
       "<tr><td>4754.0</td><td>7535.0</td><td>-0.0260</td><td>0.2190</td><td>0.2650</td><td>0.0060</td><td>0.0060</td><td>0.0040</td></tr>\n",
       "<tr><td>7535.0</td><td>11943.0</td><td>-0.0210</td><td>0.2270</td><td>0.2680</td><td>0.0080</td><td>0.0090</td><td>0.0050</td></tr>\n",
       "<tr><td>11943.0</td><td>18928.0</td><td>-0.0670</td><td>0.2070</td><td>0.2440</td><td>0.0080</td><td>0.0090</td><td>0.0050</td></tr>\n",
       "</table></div>"
      ],
      "text/plain": [
       "<QTable length=13>\n",
       " E_min   E_max    bias     σ      RMS   bias_err  σ_err  RMS_err\n",
       "  GeV     GeV                                                   \n",
       "float64 float64 float64 float64 float64 float64  float64 float64\n",
       "------- ------- ------- ------- ------- -------- ------- -------\n",
       "   47.0    75.0  0.2460  0.2180  0.2250   0.0090  0.0110  0.0040\n",
       "   75.0   119.0  0.0710  0.1980  0.2090   0.0040  0.0050  0.0020\n",
       "  119.0   189.0 -0.0010  0.1800  0.2130   0.0030  0.0030  0.0020\n",
       "  189.0   299.0 -0.0150  0.1680  0.2049   0.0030  0.0030  0.0018\n",
       "  299.0   475.0 -0.0220  0.1550  0.2020   0.0020  0.0020  0.0017\n",
       "  475.0   753.0 -0.0210  0.1480  0.2012   0.0020  0.0020  0.0018\n",
       "  753.0  1194.0 -0.0140  0.1540  0.2130   0.0020  0.0020  0.0020\n",
       " 1194.0  1892.0 -0.0180  0.1610  0.2130   0.0030  0.0030  0.0020\n",
       " 1892.0  2999.0 -0.0230  0.1810  0.2320   0.0040  0.0040  0.0030\n",
       " 2999.0  4754.0 -0.0170  0.1960  0.2510   0.0040  0.0050  0.0030\n",
       " 4754.0  7535.0 -0.0260  0.2190  0.2650   0.0060  0.0060  0.0040\n",
       " 7535.0 11943.0 -0.0210  0.2270  0.2680   0.0080  0.0090  0.0050\n",
       "11943.0 18928.0 -0.0670  0.2070  0.2440   0.0080  0.0090  0.0050"
      ]
     },
     "execution_count": 5,
     "metadata": {},
     "output_type": "execute_result"
    }
   ],
   "source": [
    "table_a2 = tabula.read_pdf(\"1409.5594.pdf\", pages=19, multiple_tables=False, area=[0, 0, 29.9, 50], relative_area=True)[0]\n",
    "remove_units_labels(table_a2)\n",
    "table_a2 = remove_spaces_from_labels(table_a2)\n",
    "table_a2 = split_column(table_a2, 'E')\n",
    "split_err_cols(table_a2)\n",
    "table_a2 = QTable.from_pandas(table_a2)\n",
    "table_a2.add_row([11943, 18928, -6.7, 20.7, 24.4, 0.8, 0.9, 0.5])\n",
    "table_a2['E_min'] = table_a2['E_min'] * u.GeV\n",
    "table_a2['E_max'] = table_a2['E_max'] * u.GeV\n",
    "for col in table_a2.columns:\n",
    "    if 'E_' not in col:\n",
    "        table_a2[col] /= 100\n",
    "        table_a2[col].info.format = '.4f'\n",
    "table_a2.write('magic_2015_table_a2.ecsv', format='ascii.ecsv', overwrite=True)\n",
    "table_a2"
   ]
  },
  {
   "cell_type": "markdown",
   "id": "887c143c-823f-46ed-bbd5-15560c67a046",
   "metadata": {},
   "source": [
    "### Table A3"
   ]
  },
  {
   "cell_type": "code",
   "execution_count": 6,
   "id": "ced387ef-116a-4300-88e3-732fff60bcf3",
   "metadata": {
    "tags": []
   },
   "outputs": [
    {
     "data": {
      "text/html": [
       "<div><i>QTable length=13</i>\n",
       "<table id=\"table140406819963088\" class=\"table-striped table-bordered table-condensed\">\n",
       "<thead><tr><th>E_min</th><th>E_max</th><th>bias</th><th>σ</th><th>RMS</th><th>bias_err</th><th>σ_err</th><th>RMS_err</th></tr></thead>\n",
       "<thead><tr><th>GeV</th><th>GeV</th><th></th><th></th><th></th><th></th><th></th><th></th></tr></thead>\n",
       "<thead><tr><th>float64</th><th>float64</th><th>float64</th><th>float64</th><th>float64</th><th>float64</th><th>float64</th><th>float64</th></tr></thead>\n",
       "<tr><td>47.0</td><td>75.0</td><td>0.4580</td><td>0.2300</td><td>0.2660</td><td>0.0180</td><td>0.0200</td><td>0.0100</td></tr>\n",
       "<tr><td>75.0</td><td>119.0</td><td>0.1890</td><td>0.2130</td><td>0.2370</td><td>0.0070</td><td>0.0080</td><td>0.0040</td></tr>\n",
       "<tr><td>119.0</td><td>189.0</td><td>0.0380</td><td>0.1890</td><td>0.2220</td><td>0.0040</td><td>0.0040</td><td>0.0030</td></tr>\n",
       "<tr><td>189.0</td><td>299.0</td><td>-0.0200</td><td>0.1820</td><td>0.2320</td><td>0.0030</td><td>0.0030</td><td>0.0020</td></tr>\n",
       "<tr><td>299.0</td><td>475.0</td><td>-0.0380</td><td>0.1750</td><td>0.2230</td><td>0.0030</td><td>0.0030</td><td>0.0020</td></tr>\n",
       "<tr><td>475.0</td><td>753.0</td><td>-0.0260</td><td>0.1680</td><td>0.2300</td><td>0.0030</td><td>0.0030</td><td>0.0020</td></tr>\n",
       "<tr><td>753.0</td><td>1194.0</td><td>-0.0150</td><td>0.1660</td><td>0.2320</td><td>0.0030</td><td>0.0030</td><td>0.0020</td></tr>\n",
       "<tr><td>1194.0</td><td>1892.0</td><td>-0.0040</td><td>0.1660</td><td>0.2450</td><td>0.0030</td><td>0.0030</td><td>0.0030</td></tr>\n",
       "<tr><td>1892.0</td><td>2999.0</td><td>-0.0020</td><td>0.1730</td><td>0.2520</td><td>0.0030</td><td>0.0030</td><td>0.0030</td></tr>\n",
       "<tr><td>2999.0</td><td>4754.0</td><td>0.0050</td><td>0.1880</td><td>0.2600</td><td>0.0040</td><td>0.0040</td><td>0.0030</td></tr>\n",
       "<tr><td>4754.0</td><td>7535.0</td><td>0.0090</td><td>0.2050</td><td>0.2800</td><td>0.0050</td><td>0.0050</td><td>0.0040</td></tr>\n",
       "<tr><td>7535.0</td><td>11943.0</td><td>-0.0010</td><td>0.2230</td><td>0.2920</td><td>0.0070</td><td>0.0070</td><td>0.0050</td></tr>\n",
       "<tr><td>11943.0</td><td>18928.0</td><td>0.0070</td><td>0.2270</td><td>0.2950</td><td>0.0080</td><td>0.0080</td><td>0.0060</td></tr>\n",
       "</table></div>"
      ],
      "text/plain": [
       "<QTable length=13>\n",
       " E_min   E_max    bias     σ      RMS   bias_err  σ_err  RMS_err\n",
       "  GeV     GeV                                                   \n",
       "float64 float64 float64 float64 float64 float64  float64 float64\n",
       "------- ------- ------- ------- ------- -------- ------- -------\n",
       "   47.0    75.0  0.4580  0.2300  0.2660   0.0180  0.0200  0.0100\n",
       "   75.0   119.0  0.1890  0.2130  0.2370   0.0070  0.0080  0.0040\n",
       "  119.0   189.0  0.0380  0.1890  0.2220   0.0040  0.0040  0.0030\n",
       "  189.0   299.0 -0.0200  0.1820  0.2320   0.0030  0.0030  0.0020\n",
       "  299.0   475.0 -0.0380  0.1750  0.2230   0.0030  0.0030  0.0020\n",
       "  475.0   753.0 -0.0260  0.1680  0.2300   0.0030  0.0030  0.0020\n",
       "  753.0  1194.0 -0.0150  0.1660  0.2320   0.0030  0.0030  0.0020\n",
       " 1194.0  1892.0 -0.0040  0.1660  0.2450   0.0030  0.0030  0.0030\n",
       " 1892.0  2999.0 -0.0020  0.1730  0.2520   0.0030  0.0030  0.0030\n",
       " 2999.0  4754.0  0.0050  0.1880  0.2600   0.0040  0.0040  0.0030\n",
       " 4754.0  7535.0  0.0090  0.2050  0.2800   0.0050  0.0050  0.0040\n",
       " 7535.0 11943.0 -0.0010  0.2230  0.2920   0.0070  0.0070  0.0050\n",
       "11943.0 18928.0  0.0070  0.2270  0.2950   0.0080  0.0080  0.0060"
      ]
     },
     "execution_count": 6,
     "metadata": {},
     "output_type": "execute_result"
    }
   ],
   "source": [
    "table_a3 = tabula.read_pdf(\"1409.5594.pdf\", pages=19, multiple_tables=False, area=[0, 50, 30, 100], relative_area=True)[0]\n",
    "remove_units_labels(table_a3)\n",
    "table_a3 = remove_spaces_from_labels(table_a3)\n",
    "table_a3 = split_column(table_a3, 'E')\n",
    "split_err_cols(table_a3)\n",
    "table_a3 = QTable.from_pandas(table_a3)\n",
    "table_a3['E_min'] = table_a3['E_min'] * u.GeV\n",
    "table_a3['E_max'] = table_a3['E_max'] * u.GeV\n",
    "for col in table_a3.columns:\n",
    "    if 'E_' not in col:\n",
    "        table_a3[col] /= 100\n",
    "        table_a3[col].info.format = '.4f'\n",
    "table_a3.write('magic_2015_table_a3.ecsv', format='ascii.ecsv', overwrite=True)\n",
    "table_a3"
   ]
  },
  {
   "cell_type": "markdown",
   "id": "55331fd3-25ae-4610-ac36-6a8490a3f629",
   "metadata": {},
   "source": [
    "### Table A.4\n",
    "\n",
    "Table A.4 is divided into two tables, corresponding to different zeniths"
   ]
  },
  {
   "cell_type": "markdown",
   "id": "18d425dd-703b-4845-a211-2361727b3e8d",
   "metadata": {},
   "source": [
    "#### Zenith < 30deg"
   ]
  },
  {
   "cell_type": "code",
   "execution_count": 7,
   "id": "323b061b-ce5b-47a9-8f31-caf03cd8cbcd",
   "metadata": {
    "tags": []
   },
   "outputs": [
    {
     "data": {
      "text/html": [
       "<div><i>QTable length=11</i>\n",
       "<table id=\"table140406822972576\" class=\"table-striped table-bordered table-condensed\">\n",
       "<thead><tr><th>E</th><th>theta_g</th><th>theta_g_err</th><th>theta_68</th><th>theta_68_err_min</th><th>theta_68_err_max</th></tr></thead>\n",
       "<thead><tr><th>GeV</th><th>deg</th><th>deg</th><th>deg</th><th>deg</th><th>deg</th></tr></thead>\n",
       "<thead><tr><th>float64</th><th>float64</th><th>float64</th><th>float64</th><th>float64</th><th>float64</th></tr></thead>\n",
       "<tr><td>95.0</td><td>0.087</td><td>0.004</td><td>0.157</td><td>-0.007</td><td>0.007</td></tr>\n",
       "<tr><td>150.0</td><td>0.075</td><td>0.002</td><td>0.135</td><td>-0.005</td><td>0.005</td></tr>\n",
       "<tr><td>238.0</td><td>0.067</td><td>0.001</td><td>0.108</td><td>-0.003</td><td>0.004</td></tr>\n",
       "<tr><td>378.0</td><td>0.058</td><td>0.001</td><td>0.095</td><td>-0.003</td><td>0.004</td></tr>\n",
       "<tr><td>599.0</td><td>0.052</td><td>0.001</td><td>0.081</td><td>-0.003</td><td>0.003</td></tr>\n",
       "<tr><td>949.0</td><td>0.046</td><td>0.001</td><td>0.073</td><td>-0.003</td><td>0.004</td></tr>\n",
       "<tr><td>1504.0</td><td>0.044</td><td>0.001</td><td>0.071</td><td>-0.003</td><td>0.005</td></tr>\n",
       "<tr><td>2383.0</td><td>0.042</td><td>0.002</td><td>0.067</td><td>-0.005</td><td>0.006</td></tr>\n",
       "<tr><td>3777.0</td><td>0.042</td><td>0.003</td><td>0.065</td><td>-0.004</td><td>0.011</td></tr>\n",
       "<tr><td>5986.0</td><td>0.041</td><td>0.004</td><td>0.062</td><td>-0.011</td><td>0.012</td></tr>\n",
       "<tr><td>9487.0</td><td>0.04</td><td>0.005</td><td>0.056</td><td>-0.012</td><td>0.062</td></tr>\n",
       "</table></div>"
      ],
      "text/plain": [
       "<QTable length=11>\n",
       "   E    theta_g theta_g_err theta_68 theta_68_err_min theta_68_err_max\n",
       "  GeV     deg       deg       deg          deg              deg       \n",
       "float64 float64   float64   float64      float64          float64     \n",
       "------- ------- ----------- -------- ---------------- ----------------\n",
       "   95.0   0.087       0.004    0.157           -0.007            0.007\n",
       "  150.0   0.075       0.002    0.135           -0.005            0.005\n",
       "  238.0   0.067       0.001    0.108           -0.003            0.004\n",
       "  378.0   0.058       0.001    0.095           -0.003            0.004\n",
       "  599.0   0.052       0.001    0.081           -0.003            0.003\n",
       "  949.0   0.046       0.001    0.073           -0.003            0.004\n",
       " 1504.0   0.044       0.001    0.071           -0.003            0.005\n",
       " 2383.0   0.042       0.002    0.067           -0.005            0.006\n",
       " 3777.0   0.042       0.003    0.065           -0.004            0.011\n",
       " 5986.0   0.041       0.004    0.062           -0.011            0.012\n",
       " 9487.0    0.04       0.005    0.056           -0.012            0.062"
      ]
     },
     "execution_count": 7,
     "metadata": {},
     "output_type": "execute_result"
    }
   ],
   "source": [
    "table_a4_zen_lower30 = tabula.read_pdf(\"1409.5594.pdf\", pages=19, multiple_tables=False, area=[40, 50, 61, 69], relative_area=True,\n",
    "                         pandas_options={'names':['E', 'theta_g']}\n",
    "                          )[0]\n",
    "\n",
    "split_err_cols(table_a4_zen_lower30)\n",
    "\n",
    "table_a4_zen_lower30['theta_68'] = [0.157, 0.135, 0.108, 0.095, 0.081, 0.073, 0.071, 0.067, 0.065, 0.062, 0.056]\n",
    "table_a4_zen_lower30['theta_68_err_min'] = [-0.007, -0.005, -0.003, -0.003, -0.003, -0.003, -0.003, -0.005, -0.004, -0.011, -0.012]\n",
    "table_a4_zen_lower30['theta_68_err_max'] = [0.007, 0.005, 0.004, 0.004, 0.003, 0.004, 0.005, 0.006, 0.011, 0.012, 0.062]\n",
    "\n",
    "\n",
    "table_a4_zen_lower30 = QTable.from_pandas(table_a4_zen_lower30)\n",
    "table_a4_zen_lower30['E'] = table_a4_zen_lower30['E'] * u.GeV\n",
    "for col in table_a4_zen_lower30.columns:\n",
    "    if col.startswith('theta'):\n",
    "        table_a4_zen_lower30[col] = table_a4_zen_lower30[col] * u.deg\n",
    "    \n",
    "table_a4_zen_lower30.write('magic_2015_table_a4_zen30.ecsv', format='ascii.ecsv', overwrite=True)\n",
    "\n",
    "table_a4_zen_lower30\n"
   ]
  },
  {
   "cell_type": "markdown",
   "id": "431b2f36-69de-413a-94f0-50d5571c7281",
   "metadata": {
    "tags": []
   },
   "source": [
    "#### 30 deg < Zenith < 45 deg"
   ]
  },
  {
   "cell_type": "code",
   "execution_count": 8,
   "id": "20c4b3e1-0c89-49ca-9526-5846d2ff58b8",
   "metadata": {
    "tags": []
   },
   "outputs": [
    {
     "data": {
      "text/html": [
       "<div><i>QTable length=11</i>\n",
       "<table id=\"table140406823157184\" class=\"table-striped table-bordered table-condensed\">\n",
       "<thead><tr><th>E</th><th>theta_g</th><th>theta_68</th><th>theta_g_err</th><th>theta_68_err_max</th><th>theta_68_err_min</th></tr></thead>\n",
       "<thead><tr><th>GeV</th><th>deg</th><th>deg</th><th>deg</th><th>deg</th><th>deg</th></tr></thead>\n",
       "<thead><tr><th>float64</th><th>float64</th><th>float64</th><th>float64</th><th>float64</th><th>float64</th></tr></thead>\n",
       "<tr><td>95.0</td><td>0.088</td><td>0.129</td><td>0.013</td><td>0.009</td><td>0.021</td></tr>\n",
       "<tr><td>150.0</td><td>0.078</td><td>0.148</td><td>0.005</td><td>0.017</td><td>0.013</td></tr>\n",
       "<tr><td>238.0</td><td>0.072</td><td>0.12</td><td>0.003</td><td>0.009</td><td>0.007</td></tr>\n",
       "<tr><td>378.0</td><td>0.063</td><td>0.097</td><td>0.003</td><td>0.008</td><td>0.006</td></tr>\n",
       "<tr><td>599.0</td><td>0.054</td><td>0.083</td><td>0.003</td><td>0.007</td><td>0.007</td></tr>\n",
       "<tr><td>949.0</td><td>0.052</td><td>0.082</td><td>0.002</td><td>0.006</td><td>0.005</td></tr>\n",
       "<tr><td>1504.0</td><td>0.046</td><td>0.077</td><td>0.002</td><td>0.007</td><td>0.004</td></tr>\n",
       "<tr><td>2383.0</td><td>0.045</td><td>0.068</td><td>0.003</td><td>0.01</td><td>0.006</td></tr>\n",
       "<tr><td>3777.0</td><td>0.039</td><td>0.061</td><td>0.004</td><td>0.011</td><td>0.008</td></tr>\n",
       "<tr><td>5986.0</td><td>0.038</td><td>0.059</td><td>0.006</td><td>0.031</td><td>0.011</td></tr>\n",
       "<tr><td>9487.0</td><td>0.046</td><td>0.055</td><td>0.009</td><td>0.209</td><td>0.005</td></tr>\n",
       "</table></div>"
      ],
      "text/plain": [
       "<QTable length=11>\n",
       "   E    theta_g theta_68 theta_g_err theta_68_err_max theta_68_err_min\n",
       "  GeV     deg     deg        deg           deg              deg       \n",
       "float64 float64 float64    float64       float64          float64     \n",
       "------- ------- -------- ----------- ---------------- ----------------\n",
       "   95.0   0.088    0.129       0.013            0.009            0.021\n",
       "  150.0   0.078    0.148       0.005            0.017            0.013\n",
       "  238.0   0.072     0.12       0.003            0.009            0.007\n",
       "  378.0   0.063    0.097       0.003            0.008            0.006\n",
       "  599.0   0.054    0.083       0.003            0.007            0.007\n",
       "  949.0   0.052    0.082       0.002            0.006            0.005\n",
       " 1504.0   0.046    0.077       0.002            0.007            0.004\n",
       " 2383.0   0.045    0.068       0.003             0.01            0.006\n",
       " 3777.0   0.039    0.061       0.004            0.011            0.008\n",
       " 5986.0   0.038    0.059       0.006            0.031            0.011\n",
       " 9487.0   0.046    0.055       0.009            0.209            0.005"
      ]
     },
     "execution_count": 8,
     "metadata": {},
     "output_type": "execute_result"
    }
   ],
   "source": [
    "table_a4_zen_30_45 = tabula.read_pdf(\"1409.5594.pdf\", pages=19, multiple_tables=False, area=[40, 75, 61, 98], relative_area=True,\n",
    "                         pandas_options={'names':['theta_g', 'theta_68']}\n",
    "                          )[0]\n",
    "\n",
    "split_err_cols(table_a4_zen_30_45)\n",
    "split_err_cols_asym(table_a4_zen_30_45)\n",
    "table_a4_zen_30_45 = QTable.from_pandas(table_a4_zen_30_45)\n",
    "for col in table_a4_zen_30_45.columns:\n",
    "    table_a4_zen_30_45[col] = table_a4_zen_30_45[col] * u.deg\n",
    "table_a4_zen_30_45.add_column(table_a4_zen_lower30['E'], index=0)\n",
    "\n",
    "table_a4_zen_30_45.write('magic_2015_table_a4_30zen45.ecsv', format='ascii.ecsv', overwrite=True)\n",
    "\n",
    "table_a4_zen_30_45"
   ]
  },
  {
   "cell_type": "code",
   "execution_count": null,
   "id": "d7c80836-b5e7-482a-9638-c3bbda727ae2",
   "metadata": {},
   "outputs": [],
   "source": []
  },
  {
   "cell_type": "code",
   "execution_count": null,
   "id": "fbd2f824-0fee-440a-b747-e7946aab4c8c",
   "metadata": {},
   "outputs": [],
   "source": []
  },
  {
   "cell_type": "code",
   "execution_count": 9,
   "id": "48a7f495-6f64-498c-9506-ab4de857a0dd",
   "metadata": {
    "tags": []
   },
   "outputs": [],
   "source": [
    "def process_sensitivity_tables(df):\n",
    "    for col in list(df.columns):\n",
    "        if 'Nbkg' in col or 'Unnamed' in col:\n",
    "            df = df.drop(columns=col)\n",
    "\n",
    "    \n",
    "    if len(df.columns) == 9:\n",
    "        colnames = [\n",
    "            'e_min',\n",
    "            'e_max',\n",
    "            'gamma-rate',\n",
    "            'bkg-rate',\n",
    "            'sensitivity_snr_cu',\n",
    "            'sensitivity_lima_1off_cu',\n",
    "            'sensitivity_lima_3off_cu',\n",
    "            'sensitivity_lima_5off_cu',\n",
    "            'sensitivity_snr',\n",
    "        ]\n",
    "    else:\n",
    "        colnames = [\n",
    "            'e_thresh',\n",
    "            'gamma-rate',\n",
    "            'bkg-rate',\n",
    "            'sensitivity_snr_cu',\n",
    "            'sensitivity_lima_1off_cu',\n",
    "            'sensitivity_lima_3off_cu',\n",
    "            'sensitivity_lima_5off_cu',\n",
    "            'sensitivity_snr',\n",
    "        ]\n",
    "\n",
    "\n",
    "    df.columns = colnames\n",
    "\n",
    "    df = df[1:]\n",
    "\n",
    "\n",
    "    units = [\n",
    "        u.GeV,\n",
    "        u.GeV,\n",
    "        1/u.min,\n",
    "        1/u.min,\n",
    "        u.one,\n",
    "        u.one,\n",
    "        u.one,\n",
    "        u.one,\n",
    "        1e-12/(u.cm**2*u.s*u.TeV)\n",
    "    ]\n",
    "\n",
    "    # split error columns\n",
    "    split_err_cols(df)\n",
    "\n",
    "    # convert to astropy table_a7le and set units\n",
    "\n",
    "    df = QTable.from_pandas(df)\n",
    "    for i,col in enumerate(df.columns):\n",
    "        df[col] = (df[col].astype(float)) * (units+units[2:])[i]\n",
    "        \n",
    "    return df"
   ]
  },
  {
   "cell_type": "code",
   "execution_count": 10,
   "id": "0113fbd5-f89c-483f-9a1b-984774c5499a",
   "metadata": {
    "tags": []
   },
   "outputs": [
    {
     "name": "stderr",
     "output_type": "stream",
     "text": [
      "Got stderr: juin 07, 2023 10:06:09 PM org.apache.pdfbox.pdmodel.font.PDSimpleFont toUnicode\n",
      "AVERTISSEMENT: No Unicode mapping for radicalbig (112) in font UWSBVB+txex\n",
      "\n"
     ]
    }
   ],
   "source": [
    "tables = tabula.read_pdf(\"1409.5594.pdf\", pages=20, )"
   ]
  },
  {
   "cell_type": "markdown",
   "id": "edb3c073-8689-4ca7-8de8-607eb84cc47e",
   "metadata": {
    "tags": []
   },
   "source": [
    "## Table A.5"
   ]
  },
  {
   "cell_type": "code",
   "execution_count": 11,
   "id": "5c780e84-6862-4d38-87a7-95562c43a34f",
   "metadata": {
    "tags": []
   },
   "outputs": [
    {
     "name": "stderr",
     "output_type": "stream",
     "text": [
      "Got stderr: juin 07, 2023 10:06:12 PM org.apache.pdfbox.pdmodel.font.PDSimpleFont toUnicode\n",
      "AVERTISSEMENT: No Unicode mapping for radicalbig (112) in font UWSBVB+txex\n",
      "\n"
     ]
    },
    {
     "data": {
      "text/html": [
       "<div><i>QTable length=15</i>\n",
       "<table id=\"table140406819952288\" class=\"table-striped table-bordered table-condensed\">\n",
       "<thead><tr><th>e_thresh</th><th>gamma-rate</th><th>bkg-rate</th><th>sensitivity_snr_cu</th><th>sensitivity_lima_1off_cu</th><th>sensitivity_lima_3off_cu</th><th>sensitivity_lima_5off_cu</th><th>sensitivity_snr</th><th>gamma-rate_err</th><th>bkg-rate_err</th><th>sensitivity_snr_cu_err</th><th>sensitivity_lima_1off_cu_err</th><th>sensitivity_lima_3off_cu_err</th><th>sensitivity_lima_5off_cu_err</th><th>sensitivity_snr_err</th></tr></thead>\n",
       "<thead><tr><th>GeV</th><th>GeV</th><th>1 / min</th><th>1 / min</th><th></th><th></th><th></th><th></th><th>1 / (cm2 s TeV)</th><th>1 / min</th><th>1 / min</th><th></th><th></th><th></th><th></th></tr></thead>\n",
       "<thead><tr><th>float64</th><th>float64</th><th>float64</th><th>float64</th><th>float64</th><th>float64</th><th>float64</th><th>float64</th><th>float64</th><th>float64</th><th>float64</th><th>float64</th><th>float64</th><th>float64</th><th>float64</th></tr></thead>\n",
       "<tr><td>84.0</td><td>19.1</td><td>8.73</td><td>2.29</td><td>2.29</td><td>2.29</td><td>2.29</td><td>156.5</td><td>2e-13</td><td>0.07</td><td>0.03</td><td>0.03</td><td>0.03</td><td>0.03</td><td>1.7</td></tr>\n",
       "<tr><td>86.0</td><td>18.8</td><td>7.8</td><td>2.07</td><td>2.07</td><td>2.07</td><td>2.07</td><td>137.1</td><td>2e-13</td><td>0.06</td><td>0.02</td><td>0.03</td><td>0.03</td><td>0.03</td><td>1.5</td></tr>\n",
       "<tr><td>104.0</td><td>16.88</td><td>4.88</td><td>1.445</td><td>1.71</td><td>1.45</td><td>1.45</td><td>75.9</td><td>1.9e-13</td><td>0.05</td><td>0.015</td><td>0.02</td><td>0.02</td><td>0.02</td><td>0.8</td></tr>\n",
       "<tr><td>146.0</td><td>6.17</td><td>0.32</td><td>0.84</td><td>1.25</td><td>1.0</td><td>0.95</td><td>28.6</td><td>1e-13</td><td>0.013</td><td>0.02</td><td>0.03</td><td>0.02</td><td>0.02</td><td>0.8</td></tr>\n",
       "<tr><td>218.0</td><td>3.63</td><td>0.07</td><td>0.66</td><td>1.06</td><td>0.83</td><td>0.78</td><td>13.4</td><td>7e-14</td><td>0.006</td><td>0.03</td><td>0.04</td><td>0.03</td><td>0.03</td><td>0.7</td></tr>\n",
       "<tr><td>289.0</td><td>2.94</td><td>0.032</td><td>0.56</td><td>0.93</td><td>0.72</td><td>0.67</td><td>7.6</td><td>7e-14</td><td>0.004</td><td>0.04</td><td>0.05</td><td>0.04</td><td>0.04</td><td>0.5</td></tr>\n",
       "<tr><td>404.0</td><td>3.05</td><td>0.03</td><td>0.51</td><td>0.87</td><td>0.67</td><td>0.63</td><td>4.4</td><td>7e-14</td><td>0.004</td><td>0.04</td><td>0.04</td><td>0.04</td><td>0.03</td><td>0.3</td></tr>\n",
       "<tr><td>523.0</td><td>2.51</td><td>0.023</td><td>0.55</td><td>0.95</td><td>0.72</td><td>0.68</td><td>3.2</td><td>6e-14</td><td>0.003</td><td>0.04</td><td>0.05</td><td>0.04</td><td>0.05</td><td>0.3</td></tr>\n",
       "<tr><td>803.0</td><td>1.59</td><td>0.0109</td><td>0.6</td><td>1.12</td><td>0.84</td><td>0.78</td><td>1.78</td><td>5e-14</td><td>0.001</td><td>0.03</td><td>0.04</td><td>0.03</td><td>0.03</td><td>0.1</td></tr>\n",
       "<tr><td>1233.0</td><td>0.95</td><td>0.0062</td><td>0.75</td><td>1.53</td><td>1.11</td><td>1.02</td><td>1.12</td><td>4e-14</td><td>0.0007</td><td>0.05</td><td>0.06</td><td>0.05</td><td>0.05</td><td>0.08</td></tr>\n",
       "<tr><td>1935.0</td><td>0.55</td><td>0.0053</td><td>1.2</td><td>2.5</td><td>1.8</td><td>1.66</td><td>0.83</td><td>3e-14</td><td>0.0011</td><td>0.15</td><td>0.16</td><td>0.13</td><td>0.15</td><td>0.1</td></tr>\n",
       "<tr><td>2938.0</td><td>0.31</td><td>0.0027</td><td>1.6</td><td>3.7</td><td>2.6</td><td>2.3</td><td>0.51</td><td>2e-14</td><td>0.0008</td><td>0.2</td><td>0.3</td><td>0.3</td><td>0.2</td><td>0.08</td></tr>\n",
       "<tr><td>4431.0</td><td>0.16</td><td>0.0022</td><td>2.7</td><td>6.6</td><td>4.5</td><td>4.1</td><td>0.41</td><td>1.6e-14</td><td>0.0006</td><td>0.5</td><td>0.6</td><td>0.5</td><td>0.4</td><td>0.07</td></tr>\n",
       "<tr><td>6718.0</td><td>0.078</td><td>0.0018</td><td>4.9</td><td>12.9</td><td>8.7</td><td>7.8</td><td>0.34</td><td>1.0999999999999999e-14</td><td>0.001</td><td>1.6</td><td>1.7</td><td>1.5</td><td>1.4</td><td>0.11</td></tr>\n",
       "<tr><td>8760.0</td><td>0.046</td><td>0.0005</td><td>7.2</td><td>17.0</td><td>10.4</td><td>9.0</td><td>0.3</td><td>8e-15</td><td>0.0005</td><td>1.3</td><td>2.0</td><td>1.7</td><td>1.8</td><td>0.05</td></tr>\n",
       "</table></div>"
      ],
      "text/plain": [
       "<QTable length=15>\n",
       "e_thresh gamma-rate bkg-rate sensitivity_snr_cu ... sensitivity_lima_3off_cu_err sensitivity_lima_5off_cu_err sensitivity_snr_err\n",
       "  GeV       GeV     1 / min       1 / min       ...                                                                              \n",
       "float64   float64   float64       float64       ...           float64                      float64                  float64      \n",
       "-------- ---------- -------- ------------------ ... ---------------------------- ---------------------------- -------------------\n",
       "    84.0       19.1     8.73               2.29 ...                         0.03                         0.03                 1.7\n",
       "    86.0       18.8      7.8               2.07 ...                         0.03                         0.03                 1.5\n",
       "   104.0      16.88     4.88              1.445 ...                         0.02                         0.02                 0.8\n",
       "   146.0       6.17     0.32               0.84 ...                         0.02                         0.02                 0.8\n",
       "   218.0       3.63     0.07               0.66 ...                         0.03                         0.03                 0.7\n",
       "   289.0       2.94    0.032               0.56 ...                         0.04                         0.04                 0.5\n",
       "   404.0       3.05     0.03               0.51 ...                         0.04                         0.03                 0.3\n",
       "   523.0       2.51    0.023               0.55 ...                         0.04                         0.05                 0.3\n",
       "   803.0       1.59   0.0109                0.6 ...                         0.03                         0.03                 0.1\n",
       "  1233.0       0.95   0.0062               0.75 ...                         0.05                         0.05                0.08\n",
       "  1935.0       0.55   0.0053                1.2 ...                         0.13                         0.15                 0.1\n",
       "  2938.0       0.31   0.0027                1.6 ...                          0.3                          0.2                0.08\n",
       "  4431.0       0.16   0.0022                2.7 ...                          0.5                          0.4                0.07\n",
       "  6718.0      0.078   0.0018                4.9 ...                          1.5                          1.4                0.11\n",
       "  8760.0      0.046   0.0005                7.2 ...                          1.7                          1.8                0.05"
      ]
     },
     "execution_count": 11,
     "metadata": {},
     "output_type": "execute_result"
    }
   ],
   "source": [
    "table_a5 = process_sensitivity_tables(tabula.read_pdf(\"1409.5594.pdf\", pages=20)[0])\n",
    "table_a5.write('magic_2015_table_a5.ecsv', format='ascii.ecsv', overwrite=True)\n",
    "\n",
    "table_a5"
   ]
  },
  {
   "cell_type": "markdown",
   "id": "c88000a3-ea51-41bf-9089-7d01d84f38cb",
   "metadata": {},
   "source": [
    "## Table A.6"
   ]
  },
  {
   "cell_type": "code",
   "execution_count": 12,
   "id": "146b65c2-2cfb-493d-a014-c54bd7211dbd",
   "metadata": {
    "tags": []
   },
   "outputs": [
    {
     "name": "stderr",
     "output_type": "stream",
     "text": [
      "Got stderr: juin 07, 2023 10:06:14 PM org.apache.pdfbox.pdmodel.font.PDSimpleFont toUnicode\n",
      "AVERTISSEMENT: No Unicode mapping for radicalbig (112) in font UWSBVB+txex\n",
      "\n"
     ]
    },
    {
     "data": {
      "text/html": [
       "<div><i>QTable length=14</i>\n",
       "<table id=\"table140406823255008\" class=\"table-striped table-bordered table-condensed\">\n",
       "<thead><tr><th>e_thresh</th><th>gamma-rate</th><th>bkg-rate</th><th>sensitivity_snr_cu</th><th>sensitivity_lima_1off_cu</th><th>sensitivity_lima_3off_cu</th><th>sensitivity_lima_5off_cu</th><th>sensitivity_snr</th><th>gamma-rate_err</th><th>bkg-rate_err</th><th>sensitivity_snr_cu_err</th><th>sensitivity_lima_1off_cu_err</th><th>sensitivity_lima_3off_cu_err</th><th>sensitivity_lima_5off_cu_err</th><th>sensitivity_snr_err</th></tr></thead>\n",
       "<thead><tr><th>GeV</th><th>GeV</th><th>1 / min</th><th>1 / min</th><th></th><th></th><th></th><th></th><th>1 / (cm2 s TeV)</th><th>1 / min</th><th>1 / min</th><th></th><th></th><th></th><th></th></tr></thead>\n",
       "<thead><tr><th>float64</th><th>float64</th><th>float64</th><th>float64</th><th>float64</th><th>float64</th><th>float64</th><th>float64</th><th>float64</th><th>float64</th><th>float64</th><th>float64</th><th>float64</th><th>float64</th><th>float64</th></tr></thead>\n",
       "<tr><td>114.0</td><td>19.7</td><td>7.68</td><td>1.95</td><td>1.95</td><td>1.95</td><td>1.95</td><td>91.4</td><td>4e-13</td><td>0.1</td><td>0.03</td><td>0.04</td><td>0.04</td><td>0.04</td><td>1.6</td></tr>\n",
       "<tr><td>119.0</td><td>19.3</td><td>6.83</td><td>1.76</td><td>1.77</td><td>1.76</td><td>1.76</td><td>78.4</td><td>3e-13</td><td>0.1</td><td>0.03</td><td>0.03</td><td>0.04</td><td>0.04</td><td>1.3</td></tr>\n",
       "<tr><td>141.0</td><td>17.4</td><td>4.23</td><td>1.22</td><td>1.55</td><td>1.26</td><td>1.22</td><td>43.5</td><td>3e-13</td><td>0.08</td><td>0.02</td><td>0.03</td><td>0.03</td><td>0.03</td><td>0.8</td></tr>\n",
       "<tr><td>210.0</td><td>5.6</td><td>0.216</td><td>0.76</td><td>1.15</td><td>0.92</td><td>0.86</td><td>16.1</td><td>1.6e-13</td><td>0.017</td><td>0.04</td><td>0.05</td><td>0.04</td><td>0.04</td><td>0.8</td></tr>\n",
       "<tr><td>310.0</td><td>3.59</td><td>0.07</td><td>0.67</td><td>1.07</td><td>0.84</td><td>0.79</td><td>8.3</td><td>1.2e-13</td><td>0.01</td><td>0.05</td><td>0.07</td><td>0.06</td><td>0.06</td><td>0.7</td></tr>\n",
       "<tr><td>401.0</td><td>3.19</td><td>0.051</td><td>0.65</td><td>1.05</td><td>0.82</td><td>0.77</td><td>5.6</td><td>1.2e-13</td><td>0.008</td><td>0.06</td><td>0.08</td><td>0.07</td><td>0.06</td><td>0.5</td></tr>\n",
       "<tr><td>435.0</td><td>3.31</td><td>0.053</td><td>0.63</td><td>1.03</td><td>0.8</td><td>0.75</td><td>4.8</td><td>1.2e-13</td><td>0.009</td><td>0.06</td><td>0.08</td><td>0.07</td><td>0.06</td><td>0.4</td></tr>\n",
       "<tr><td>546.0</td><td>2.98</td><td>0.042</td><td>0.63</td><td>1.03</td><td>0.8</td><td>0.75</td><td>3.4</td><td>1.1e-13</td><td>0.008</td><td>0.06</td><td>0.08</td><td>0.07</td><td>0.06</td><td>0.3</td></tr>\n",
       "<tr><td>821.0</td><td>2.24</td><td>0.023</td><td>0.61</td><td>1.06</td><td>0.81</td><td>0.76</td><td>1.77</td><td>1e-13</td><td>0.002</td><td>0.04</td><td>0.05</td><td>0.05</td><td>0.04</td><td>0.12</td></tr>\n",
       "<tr><td>1262.0</td><td>1.19</td><td>0.0086</td><td>0.71</td><td>1.38</td><td>1.02</td><td>0.94</td><td>1.02</td><td>7e-14</td><td>0.0014</td><td>0.07</td><td>0.09</td><td>0.08</td><td>0.07</td><td>0.1</td></tr>\n",
       "<tr><td>1955.0</td><td>0.84</td><td>0.0072</td><td>0.93</td><td>1.84</td><td>1.35</td><td>1.24</td><td>0.63</td><td>6e-14</td><td>0.0013</td><td>0.11</td><td>0.13</td><td>0.11</td><td>0.1</td><td>0.07</td></tr>\n",
       "<tr><td>2891.0</td><td>0.6</td><td>0.013</td><td>1.7</td><td>3.2</td><td>2.4</td><td>2.2</td><td>0.58</td><td>5e-14</td><td>0.003</td><td>0.2</td><td>0.3</td><td>0.2</td><td>0.3</td><td>0.08</td></tr>\n",
       "<tr><td>4479.0</td><td>0.31</td><td>0.0052</td><td>2.1</td><td>4.5</td><td>3.2</td><td>3.0</td><td>0.32</td><td>4e-14</td><td>0.0017</td><td>0.4</td><td>0.6</td><td>0.5</td><td>0.4</td><td>0.07</td></tr>\n",
       "<tr><td>7133.0</td><td>0.14</td><td>0.0017</td><td>2.7</td><td>7.1</td><td>4.8</td><td>4.3</td><td>0.17</td><td>2e-14</td><td>0.001</td><td>0.9</td><td>1.0</td><td>0.9</td><td>0.9</td><td>0.06</td></tr>\n",
       "</table></div>"
      ],
      "text/plain": [
       "<QTable length=14>\n",
       "e_thresh gamma-rate bkg-rate sensitivity_snr_cu ... sensitivity_lima_3off_cu_err sensitivity_lima_5off_cu_err sensitivity_snr_err\n",
       "  GeV       GeV     1 / min       1 / min       ...                                                                              \n",
       "float64   float64   float64       float64       ...           float64                      float64                  float64      \n",
       "-------- ---------- -------- ------------------ ... ---------------------------- ---------------------------- -------------------\n",
       "   114.0       19.7     7.68               1.95 ...                         0.04                         0.04                 1.6\n",
       "   119.0       19.3     6.83               1.76 ...                         0.04                         0.04                 1.3\n",
       "   141.0       17.4     4.23               1.22 ...                         0.03                         0.03                 0.8\n",
       "   210.0        5.6    0.216               0.76 ...                         0.04                         0.04                 0.8\n",
       "   310.0       3.59     0.07               0.67 ...                         0.06                         0.06                 0.7\n",
       "   401.0       3.19    0.051               0.65 ...                         0.07                         0.06                 0.5\n",
       "   435.0       3.31    0.053               0.63 ...                         0.07                         0.06                 0.4\n",
       "   546.0       2.98    0.042               0.63 ...                         0.07                         0.06                 0.3\n",
       "   821.0       2.24    0.023               0.61 ...                         0.05                         0.04                0.12\n",
       "  1262.0       1.19   0.0086               0.71 ...                         0.08                         0.07                 0.1\n",
       "  1955.0       0.84   0.0072               0.93 ...                         0.11                          0.1                0.07\n",
       "  2891.0        0.6    0.013                1.7 ...                          0.2                          0.3                0.08\n",
       "  4479.0       0.31   0.0052                2.1 ...                          0.5                          0.4                0.07\n",
       "  7133.0       0.14   0.0017                2.7 ...                          0.9                          0.9                0.06"
      ]
     },
     "execution_count": 12,
     "metadata": {},
     "output_type": "execute_result"
    }
   ],
   "source": [
    "table_a6 = tabula.read_pdf(\"1409.5594.pdf\", pages=20)[1]\n",
    "table_a6 = table_a6.drop(table_a6.columns[5], axis=1)\n",
    "table_a6 = process_sensitivity_tables(table_a6)\n",
    "table_a6.write('magic_2015_table_a6.ecsv', format='ascii.ecsv', overwrite=True)\n",
    "\n",
    "table_a6"
   ]
  },
  {
   "cell_type": "markdown",
   "id": "64de3176-6a3d-4588-a7bb-8a4d53d26fae",
   "metadata": {},
   "source": [
    "## Table A7"
   ]
  },
  {
   "cell_type": "code",
   "execution_count": 13,
   "id": "24c5b847-9649-4e62-ac65-e821fbe7b818",
   "metadata": {
    "tags": []
   },
   "outputs": [
    {
     "data": {
      "text/html": [
       "<div><i>QTable length=11</i>\n",
       "<table id=\"table140406818771728\" class=\"table-striped table-bordered table-condensed\">\n",
       "<thead><tr><th>e_min</th><th>e_max</th><th>gamma-rate</th><th>bkg-rate</th><th>sensitivity_snr_cu</th><th>sensitivity_lima_1off_cu</th><th>sensitivity_lima_3off_cu</th><th>sensitivity_lima_5off_cu</th><th>sensitivity_snr</th><th>gamma-rate_err</th><th>bkg-rate_err</th><th>sensitivity_snr_cu_err</th><th>sensitivity_lima_1off_cu_err</th><th>sensitivity_lima_3off_cu_err</th><th>sensitivity_lima_5off_cu_err</th><th>sensitivity_snr_err</th></tr></thead>\n",
       "<thead><tr><th>GeV</th><th>GeV</th><th>1 / min</th><th>1 / min</th><th></th><th></th><th></th><th></th><th>1 / (cm2 s TeV)</th><th>1 / min</th><th>1 / min</th><th></th><th></th><th></th><th></th><th>1 / (cm2 s TeV)</th></tr></thead>\n",
       "<thead><tr><th>float64</th><th>float64</th><th>float64</th><th>float64</th><th>float64</th><th>float64</th><th>float64</th><th>float64</th><th>float64</th><th>float64</th><th>float64</th><th>float64</th><th>float64</th><th>float64</th><th>float64</th><th>float64</th></tr></thead>\n",
       "<tr><td>63.0</td><td>100.0</td><td>3.01</td><td>4.06</td><td>6.7</td><td>8.8</td><td>7.1</td><td>6.8</td><td>7.3e-10</td><td>0.13</td><td>0.08</td><td>0.2</td><td>0.4</td><td>0.3</td><td>0.3</td><td>3e-11</td></tr>\n",
       "<tr><td>100.0</td><td>158.0</td><td>4.29</td><td>2.41</td><td>3.31</td><td>4.77</td><td>3.87</td><td>3.67</td><td>1.37e-10</td><td>0.12</td><td>0.06</td><td>0.12</td><td>0.14</td><td>0.11</td><td>0.1</td><td>5e-12</td></tr>\n",
       "<tr><td>158.0</td><td>251.0</td><td>3.37</td><td>0.54</td><td>2.0</td><td>2.95</td><td>2.38</td><td>2.25</td><td>3.05e-11</td><td>0.08</td><td>0.03</td><td>0.08</td><td>0.1</td><td>0.08</td><td>0.08</td><td>1.3000000000000001e-12</td></tr>\n",
       "<tr><td>251.0</td><td>398.0</td><td>1.36</td><td>0.066</td><td>1.72</td><td>2.8</td><td>2.16</td><td>2.03</td><td>9.300000000000001e-12</td><td>0.05</td><td>0.01</td><td>0.15</td><td>0.2</td><td>0.16</td><td>0.15</td><td>8e-13</td></tr>\n",
       "<tr><td>398.0</td><td>631.0</td><td>1.22</td><td>0.027</td><td>1.23</td><td>2.1</td><td>1.61</td><td>1.51</td><td>2.3e-12</td><td>0.04</td><td>0.006</td><td>0.16</td><td>0.18</td><td>0.18</td><td>0.15</td><td>3e-13</td></tr>\n",
       "<tr><td>631.0</td><td>1000.0</td><td>0.88</td><td>0.0133</td><td>1.19</td><td>2.18</td><td>1.64</td><td>1.53</td><td>7.2e-13</td><td>0.04</td><td>0.0018</td><td>0.1</td><td>0.12</td><td>0.09</td><td>0.11</td><td>6e-14</td></tr>\n",
       "<tr><td>1000.0</td><td>1585.0</td><td>0.58</td><td>0.0059</td><td>1.21</td><td>2.48</td><td>1.8</td><td>1.66</td><td>2.3000000000000003e-13</td><td>0.03</td><td>0.0007</td><td>0.1</td><td>0.11</td><td>0.09</td><td>0.09</td><td>1.8e-14</td></tr>\n",
       "<tr><td>1585.0</td><td>2512.0</td><td>0.3</td><td>0.0027</td><td>1.58</td><td>3.8</td><td>2.6</td><td>2.36</td><td>9e-14</td><td>0.02</td><td>0.0005</td><td>0.18</td><td>0.2</td><td>0.19</td><td>0.18</td><td>1e-14</td></tr>\n",
       "<tr><td>2512.0</td><td>3981.0</td><td>0.166</td><td>0.002</td><td>2.5</td><td>6.2</td><td>4.3</td><td>3.8</td><td>4.1e-14</td><td>0.016</td><td>0.0005</td><td>0.4</td><td>0.5</td><td>0.4</td><td>0.4</td><td>7e-15</td></tr>\n",
       "<tr><td>3981.0</td><td>6310.0</td><td>0.093</td><td>0.0014</td><td>3.7</td><td>10.2</td><td>6.8</td><td>6.1</td><td>1.7e-14</td><td>0.012</td><td>0.0003</td><td>0.7</td><td>1.0</td><td>0.7</td><td>0.7</td><td>3e-15</td></tr>\n",
       "<tr><td>6310.0</td><td>10000.0</td><td>0.06</td><td>0.0046</td><td>10.0</td><td>22.0</td><td>16.0</td><td>15.0</td><td>1.3e-14</td><td>0.01</td><td>0.0015</td><td>3.0</td><td>3.0</td><td>3.0</td><td>2.0</td><td>3e-15</td></tr>\n",
       "</table></div>"
      ],
      "text/plain": [
       "<QTable length=11>\n",
       " e_min   e_max  gamma-rate bkg-rate ... sensitivity_lima_3off_cu_err sensitivity_lima_5off_cu_err  sensitivity_snr_err  \n",
       "  GeV     GeV    1 / min   1 / min  ...                                                              1 / (cm2 s TeV)    \n",
       "float64 float64  float64   float64  ...           float64                      float64                   float64        \n",
       "------- ------- ---------- -------- ... ---------------------------- ---------------------------- ----------------------\n",
       "   63.0   100.0       3.01     4.06 ...                          0.3                          0.3                  3e-11\n",
       "  100.0   158.0       4.29     2.41 ...                         0.11                          0.1                  5e-12\n",
       "  158.0   251.0       3.37     0.54 ...                         0.08                         0.08 1.3000000000000001e-12\n",
       "  251.0   398.0       1.36    0.066 ...                         0.16                         0.15                  8e-13\n",
       "  398.0   631.0       1.22    0.027 ...                         0.18                         0.15                  3e-13\n",
       "  631.0  1000.0       0.88   0.0133 ...                         0.09                         0.11                  6e-14\n",
       " 1000.0  1585.0       0.58   0.0059 ...                         0.09                         0.09                1.8e-14\n",
       " 1585.0  2512.0        0.3   0.0027 ...                         0.19                         0.18                  1e-14\n",
       " 2512.0  3981.0      0.166    0.002 ...                          0.4                          0.4                  7e-15\n",
       " 3981.0  6310.0      0.093   0.0014 ...                          0.7                          0.7                  3e-15\n",
       " 6310.0 10000.0       0.06   0.0046 ...                          3.0                          2.0                  3e-15"
      ]
     },
     "execution_count": 13,
     "metadata": {},
     "output_type": "execute_result"
    }
   ],
   "source": [
    "table_a7 = tabula.read_pdf(\"1409.5594.pdf\", pages=21, area=[0, 0, 30, 100], relative_area=True,)[0]\n",
    "table_a7 = process_sensitivity_tables(table_a7)\n",
    "table_a7.write('magic_2015_table_a7.ecsv', format='ascii.ecsv', overwrite=True)\n",
    "\n",
    "table_a7"
   ]
  },
  {
   "cell_type": "code",
   "execution_count": null,
   "id": "d1f555ae-b32c-44ad-9a5c-f8bb1af60bd2",
   "metadata": {},
   "outputs": [],
   "source": []
  },
  {
   "cell_type": "markdown",
   "id": "1b44cc43-2531-4e28-b0ac-b506d5e0633c",
   "metadata": {},
   "source": [
    "## Table A8"
   ]
  },
  {
   "cell_type": "code",
   "execution_count": 14,
   "id": "bc58b8b6-5455-4f53-b59c-a51b4c8a0c84",
   "metadata": {
    "tags": []
   },
   "outputs": [
    {
     "data": {
      "text/html": [
       "<div><i>QTable length=10</i>\n",
       "<table id=\"table140406818771344\" class=\"table-striped table-bordered table-condensed\">\n",
       "<thead><tr><th>e_min</th><th>e_max</th><th>gamma-rate</th><th>bkg-rate</th><th>sensitivity_snr_cu</th><th>sensitivity_lima_1off_cu</th><th>sensitivity_lima_3off_cu</th><th>sensitivity_lima_5off_cu</th><th>sensitivity_snr</th><th>gamma-rate_err</th><th>bkg-rate_err</th><th>sensitivity_snr_cu_err</th><th>sensitivity_lima_1off_cu_err</th><th>sensitivity_lima_3off_cu_err</th><th>sensitivity_lima_5off_cu_err</th><th>sensitivity_snr_err</th></tr></thead>\n",
       "<thead><tr><th>GeV</th><th>GeV</th><th>1 / min</th><th>1 / min</th><th></th><th></th><th></th><th></th><th>1 / (cm2 s TeV)</th><th>1 / min</th><th>1 / min</th><th></th><th></th><th></th><th></th><th>1 / (cm2 s TeV)</th></tr></thead>\n",
       "<thead><tr><th>float64</th><th>float64</th><th>float64</th><th>float64</th><th>float64</th><th>float64</th><th>float64</th><th>float64</th><th>float64</th><th>float64</th><th>float64</th><th>float64</th><th>float64</th><th>float64</th><th>float64</th><th>float64</th></tr></thead>\n",
       "<tr><td>100.0</td><td>158.0</td><td>3.18</td><td>2.89</td><td>4.9</td><td>7.0</td><td>5.7</td><td>5.4</td><td>2.02e-10</td><td>0.16</td><td>0.05</td><td>0.4</td><td>0.4</td><td>0.3</td><td>0.3</td><td>1.5e-11</td></tr>\n",
       "<tr><td>158.0</td><td>251.0</td><td>2.67</td><td>0.54</td><td>2.52</td><td>3.7</td><td>3.0</td><td>2.8</td><td>3.8e-11</td><td>0.19</td><td>0.04</td><td>0.19</td><td>0.3</td><td>0.3</td><td>0.2</td><td>3e-12</td></tr>\n",
       "<tr><td>251.0</td><td>398.0</td><td>2.86</td><td>0.305</td><td>1.76</td><td>2.64</td><td>2.11</td><td>2.0</td><td>9.5e-12</td><td>0.13</td><td>0.019</td><td>0.14</td><td>0.14</td><td>0.11</td><td>0.1</td><td>8e-13</td></tr>\n",
       "<tr><td>398.0</td><td>631.0</td><td>1.76</td><td>0.088</td><td>1.5</td><td>2.41</td><td>1.9</td><td>1.79</td><td>2.7999999999999998e-12</td><td>0.12</td><td>0.006</td><td>0.2</td><td>0.16</td><td>0.14</td><td>0.13</td><td>4e-13</td></tr>\n",
       "<tr><td>631.0</td><td>1000.0</td><td>1.44</td><td>0.038</td><td>1.23</td><td>2.04</td><td>1.58</td><td>1.48</td><td>7.4e-13</td><td>0.09</td><td>0.002</td><td>0.13</td><td>0.12</td><td>0.09</td><td>0.1</td><td>8e-14</td></tr>\n",
       "<tr><td>1000.0</td><td>1585.0</td><td>0.94</td><td>0.0197</td><td>1.36</td><td>2.38</td><td>1.81</td><td>1.69</td><td>2.6e-13</td><td>0.08</td><td>0.0016</td><td>0.12</td><td>0.16</td><td>0.13</td><td>0.13</td><td>2e-14</td></tr>\n",
       "<tr><td>1585.0</td><td>2512.0</td><td>0.67</td><td>0.0111</td><td>1.43</td><td>2.7</td><td>2.0</td><td>1.85</td><td>8.2e-14</td><td>0.06</td><td>0.0015</td><td>0.16</td><td>0.2</td><td>0.19</td><td>0.18</td><td>9e-15</td></tr>\n",
       "<tr><td>2512.0</td><td>3981.0</td><td>0.32</td><td>0.0093</td><td>2.8</td><td>5.3</td><td>3.9</td><td>3.7</td><td>4.6e-14</td><td>0.05</td><td>0.0012</td><td>0.4</td><td>0.7</td><td>0.6</td><td>0.5</td><td>7e-15</td></tr>\n",
       "<tr><td>3981.0</td><td>6310.0</td><td>0.2</td><td>0.0042</td><td>2.9</td><td>6.4</td><td>4.6</td><td>4.2</td><td>1.4e-14</td><td>0.04</td><td>0.0017</td><td>0.6</td><td>1.2</td><td>0.9</td><td>0.9</td><td>3e-15</td></tr>\n",
       "<tr><td>6310.0</td><td>10000.0</td><td>0.1</td><td>0.0052</td><td>6.7</td><td>14.0</td><td>10.0</td><td>9.0</td><td>8e-15</td><td>0.03</td><td>0.0002</td><td>1.9</td><td>3.0</td><td>3.0</td><td>2.0</td><td>2e-15</td></tr>\n",
       "</table></div>"
      ],
      "text/plain": [
       "<QTable length=10>\n",
       " e_min   e_max  gamma-rate bkg-rate ... sensitivity_lima_3off_cu_err sensitivity_lima_5off_cu_err sensitivity_snr_err\n",
       "  GeV     GeV    1 / min   1 / min  ...                                                             1 / (cm2 s TeV)  \n",
       "float64 float64  float64   float64  ...           float64                      float64                  float64      \n",
       "------- ------- ---------- -------- ... ---------------------------- ---------------------------- -------------------\n",
       "  100.0   158.0       3.18     2.89 ...                          0.3                          0.3             1.5e-11\n",
       "  158.0   251.0       2.67     0.54 ...                          0.3                          0.2               3e-12\n",
       "  251.0   398.0       2.86    0.305 ...                         0.11                          0.1               8e-13\n",
       "  398.0   631.0       1.76    0.088 ...                         0.14                         0.13               4e-13\n",
       "  631.0  1000.0       1.44    0.038 ...                         0.09                          0.1               8e-14\n",
       " 1000.0  1585.0       0.94   0.0197 ...                         0.13                         0.13               2e-14\n",
       " 1585.0  2512.0       0.67   0.0111 ...                         0.19                         0.18               9e-15\n",
       " 2512.0  3981.0       0.32   0.0093 ...                          0.6                          0.5               7e-15\n",
       " 3981.0  6310.0        0.2   0.0042 ...                          0.9                          0.9               3e-15\n",
       " 6310.0 10000.0        0.1   0.0052 ...                          3.0                          2.0               2e-15"
      ]
     },
     "execution_count": 14,
     "metadata": {},
     "output_type": "execute_result"
    }
   ],
   "source": [
    "table_a8 = tabula.read_pdf(\"1409.5594.pdf\", pages=21, area=[37, 0, 55, 100], relative_area=True,)[0]\n",
    "table_a8 = process_sensitivity_tables(table_a8)\n",
    "table_a8.write('magic_2015_table_a8.ecsv', format='ascii.ecsv', overwrite=True)\n",
    "\n",
    "table_a8"
   ]
  },
  {
   "cell_type": "code",
   "execution_count": null,
   "id": "84ff9dfa-5439-46be-9725-94465eda7a61",
   "metadata": {},
   "outputs": [],
   "source": []
  }
 ],
 "metadata": {
  "kernelspec": {
   "display_name": "Python 3 (ipykernel)",
   "language": "python",
   "name": "python3"
  },
  "language_info": {
   "codemirror_mode": {
    "name": "ipython",
    "version": 3
   },
   "file_extension": ".py",
   "mimetype": "text/x-python",
   "name": "python",
   "nbconvert_exporter": "python",
   "pygments_lexer": "ipython3",
   "version": "3.8.16"
  }
 },
 "nbformat": 4,
 "nbformat_minor": 5
}
