{
 "cells": [
  {
   "cell_type": "markdown",
   "id": "209b23c4-97dc-4ac4-8fce-4b49074ed4cc",
   "metadata": {},
   "source": [
    "# Figures of the MAGIC performance paper of 2015\n",
    "\n",
    "_The major upgrade of the MAGIC telescopes, Part II: A performance study using observations of the Crab Nebula_, J. Aleksíc et al, 2015, https://doi.org/10.1016/j.astropartphys.2015.02.005\n",
    "\n",
    "The arXiv version: https://arxiv.org/abs/1409.5594\n",
    "\n"
   ]
  },
  {
   "cell_type": "code",
   "execution_count": null,
   "id": "be5ded4d-fb06-4623-81f4-1a4a031185f7",
   "metadata": {},
   "outputs": [],
   "source": []
  },
  {
   "cell_type": "code",
   "execution_count": null,
   "id": "0630c0a2-99ef-4710-bba8-e7f473dda09e",
   "metadata": {
    "tags": []
   },
   "outputs": [],
   "source": [
    "from astropy.table import QTable\n",
    "import matplotlib.pyplot as plt\n",
    "import numpy as np"
   ]
  },
  {
   "cell_type": "code",
   "execution_count": null,
   "id": "da5a92af-5aca-492a-8c87-109b33627b7d",
   "metadata": {},
   "outputs": [],
   "source": []
  },
  {
   "cell_type": "markdown",
   "id": "01f33411-cb78-4415-95de-6d637a43a01f",
   "metadata": {},
   "source": [
    "# Figure 10 - Energy resolution and bias"
   ]
  },
  {
   "cell_type": "code",
   "execution_count": null,
   "id": "3fbb8f75-e0de-40db-ba80-0e8bf373ede1",
   "metadata": {
    "tags": []
   },
   "outputs": [],
   "source": [
    "table_a2 = QTable.read('data/magic_2015_table_a2.ecsv')\n",
    "table_a3 = QTable.read('data/magic_2015_table_a3.ecsv')"
   ]
  },
  {
   "cell_type": "code",
   "execution_count": null,
   "id": "5b423082-a881-4513-b331-1411b5196540",
   "metadata": {
    "tags": []
   },
   "outputs": [],
   "source": [
    "table_a2['E_center'] = np.sqrt(table_a2['E_min'] * table_a2['E_max'])\n",
    "table_a3['E_center'] = np.sqrt(table_a3['E_min'] * table_a3['E_max'])"
   ]
  },
  {
   "cell_type": "code",
   "execution_count": null,
   "id": "9600b7e4-48ed-41bd-8854-2ab39b384ed1",
   "metadata": {
    "tags": []
   },
   "outputs": [],
   "source": [
    "plt.plot(table_a2['E_center'], table_a2['bias'], label='Bias (2013, < 30)', ls='--', color='red')\n",
    "plt.plot(table_a3['E_center'], table_a3['bias'], label='Bias (2013, 30-45)', ls='--', color='blue')\n",
    "plt.plot(table_a2['E_center'], table_a2['σ'], label='Resolution (2013, < 30)', color='red')\n",
    "plt.plot(table_a3['E_center'], table_a3['σ'], label='Resolution (2013, 30-45)', color='blue')\n",
    "\n",
    "\n",
    "plt.xscale('log')\n",
    "plt.grid(True, which='both')\n",
    "plt.legend()"
   ]
  },
  {
   "cell_type": "code",
   "execution_count": null,
   "id": "b3ad1f27-e344-4c6c-9abc-62df9c2b63c0",
   "metadata": {},
   "outputs": [],
   "source": []
  },
  {
   "cell_type": "markdown",
   "id": "03bc2149-d266-4338-a9c9-d62f2afa8fe0",
   "metadata": {},
   "source": [
    "# Figure 14 - Angular resolution"
   ]
  },
  {
   "cell_type": "code",
   "execution_count": null,
   "id": "43e5a682-f8b4-460c-b794-1a3f6ee9957e",
   "metadata": {
    "tags": []
   },
   "outputs": [],
   "source": [
    "table_a4_zen3045 = QTable.read('data/magic_2015_table_a4_30zen45.ecsv')\n",
    "table_a4_lowzen = QTable.read('data/magic_2015_table_a4_zen30.ecsv')"
   ]
  },
  {
   "cell_type": "code",
   "execution_count": null,
   "id": "b1ea0dc8-a265-41a1-a92c-e23fb50a20de",
   "metadata": {
    "tags": []
   },
   "outputs": [],
   "source": [
    "fig, axes = plt.subplots(1, 2, figsize=(15,5))\n",
    "\n",
    "ax = axes[0]\n",
    "ax.plot(table_a4_lowzen['E'], table_a4_lowzen['theta_g'], color='red', label='2D gaus fit, Crab, 2013, < 30deg')\n",
    "ax.plot(table_a4_zen3045['E'], table_a4_zen3045['theta_g'], color='blue', label='2D gaus fit, Crab, 2013, 30-45deg')\n",
    "ax.set_ylim(0, 0.12)\n",
    "\n",
    "ax = axes[1]\n",
    "ax.plot(table_a4_lowzen['E'], table_a4_lowzen['theta_68'], color='red', label='68% cont., Crab, 2013, < 30deg')\n",
    "ax.plot(table_a4_zen3045['E'], table_a4_zen3045['theta_68'], color='blue', label='68% cont., Crab, 2013, 30-45deg M')\n",
    "ax.set_ylim(0, 0.185)\n",
    "\n",
    "for ax in axes:\n",
    "    ax.set_xscale('log')\n",
    "    ax.set_xlabel('Estimated Energy [GeV]')\n",
    "    ax.set_ylabel('Angular resolution [degree]')\n",
    "    ax.legend()\n",
    "    ax.grid(True, which='both')"
   ]
  },
  {
   "cell_type": "markdown",
   "id": "ae173737-be15-4b0e-b149-5e60e95d566a",
   "metadata": {},
   "source": [
    "**Note: The careful reader will notice that the angular resolution for the 68% containement radius does not correspond to the figure shown in the paper.**"
   ]
  },
  {
   "cell_type": "code",
   "execution_count": null,
   "id": "a91be874-9400-43a9-876c-81bf50641c4e",
   "metadata": {},
   "outputs": [],
   "source": []
  },
  {
   "cell_type": "markdown",
   "id": "3c199d73-ee22-463c-a570-6b8127490c6a",
   "metadata": {},
   "source": [
    "# Figure 17"
   ]
  },
  {
   "cell_type": "code",
   "execution_count": null,
   "id": "51dab493-2fd2-42ff-936c-538eeef2b2b1",
   "metadata": {
    "tags": []
   },
   "outputs": [],
   "source": [
    "table_a5 = QTable.read('data/magic_2015_table_a5.ecsv')\n",
    "table_a6 = QTable.read('data/magic_2015_table_a6.ecsv')"
   ]
  },
  {
   "cell_type": "code",
   "execution_count": null,
   "id": "727ee958-ae79-4714-b932-a48808783aac",
   "metadata": {
    "tags": []
   },
   "outputs": [],
   "source": [
    "plt.errorbar(table_a5['e_thresh'],\n",
    "             table_a5['sensitivity_snr_cu'],\n",
    "             yerr=table_a5['sensitivity_snr_cu_err'],\n",
    "             markersize=5,\n",
    "             marker='s',\n",
    "             color='red',\n",
    "             label='Stereo Upgr. (2013)'\n",
    "            )\n",
    "\n",
    "\n",
    "plt.errorbar(table_a6['e_thresh'],\n",
    "             table_a6['sensitivity_snr_cu'],\n",
    "             yerr=table_a6['sensitivity_snr_cu_err'],\n",
    "             markersize=5,\n",
    "             marker='s',\n",
    "             color='blue',\n",
    "             label='Stereo Upgr. Zd 30-45, (2013)'\n",
    "            )\n",
    "\n",
    "plt.xscale('log')\n",
    "plt.yscale('log')\n",
    "\n",
    "plt.xlim(30, 1e4)\n",
    "plt.ylim(0.45, 22)\n",
    "\n",
    "plt.grid(True, which='both')\n",
    "plt.legend()"
   ]
  },
  {
   "cell_type": "markdown",
   "id": "5bbcf63a-cc87-41c6-bc75-a20ad0abccfb",
   "metadata": {},
   "source": [
    "**Note: data is missing for the last bin**"
   ]
  },
  {
   "cell_type": "markdown",
   "id": "6a512a7c-670a-4104-b02f-5f2516168e60",
   "metadata": {},
   "source": [
    "# Figure 18"
   ]
  },
  {
   "cell_type": "code",
   "execution_count": null,
   "id": "179fa4c9-85b0-40c9-9fe0-f8967ce65904",
   "metadata": {
    "tags": []
   },
   "outputs": [],
   "source": [
    "table_a7 = QTable.read('data/magic_2015_table_a7.ecsv')\n",
    "table_a8 = QTable.read('data/magic_2015_table_a8.ecsv')"
   ]
  },
  {
   "cell_type": "code",
   "execution_count": null,
   "id": "a0b52ab2-9cae-4cac-9726-6f4439027c2e",
   "metadata": {
    "tags": []
   },
   "outputs": [],
   "source": [
    "for table in [table_a7, table_a8]:\n",
    "    table['e_center'] = np.sqrt(table['e_min'] * table['e_max'] )"
   ]
  },
  {
   "cell_type": "code",
   "execution_count": null,
   "id": "0c3b2927-06a3-4935-a7a3-df84d156cde6",
   "metadata": {
    "tags": []
   },
   "outputs": [],
   "source": [
    "plt.errorbar(table_a7['e_center'],\n",
    "             table_a7['sensitivity_snr_cu'],\n",
    "             yerr=table_a7['sensitivity_snr_cu_err'],\n",
    "             markersize=5,\n",
    "             marker='s',\n",
    "             color='red',\n",
    "             label='Stereo Upgd., (2013), Zd. < 30°'\n",
    "            )\n",
    "\n",
    "\n",
    "plt.errorbar(table_a8['e_center'],\n",
    "             table_a8['sensitivity_snr_cu'],\n",
    "             yerr=table_a8['sensitivity_snr_cu_err'],\n",
    "             markersize=5,\n",
    "             marker='s',\n",
    "             color='blue',\n",
    "             label='Stereo Upgd., (2013), Zd. 30-45°'\n",
    "            )\n",
    "\n",
    "plt.xscale('log')\n",
    "plt.yscale('log')\n",
    "\n",
    "# plt.xlim(30, 1e4)\n",
    "plt.ylim(0.95, 50)\n",
    "\n",
    "plt.grid(True, which='both')\n",
    "plt.legend()"
   ]
  },
  {
   "cell_type": "code",
   "execution_count": null,
   "id": "f6299139-c476-4789-97af-030ed4a43c4e",
   "metadata": {},
   "outputs": [],
   "source": []
  }
 ],
 "metadata": {
  "kernelspec": {
   "display_name": "Python 3 (ipykernel)",
   "language": "python",
   "name": "python3"
  },
  "language_info": {
   "codemirror_mode": {
    "name": "ipython",
    "version": 3
   },
   "file_extension": ".py",
   "mimetype": "text/x-python",
   "name": "python",
   "nbconvert_exporter": "python",
   "pygments_lexer": "ipython3",
   "version": "3.8.16"
  }
 },
 "nbformat": 4,
 "nbformat_minor": 5
}
